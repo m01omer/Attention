{
 "cells": [
  {
   "cell_type": "code",
   "execution_count": 26,
   "id": "28a1eb2f",
   "metadata": {},
   "outputs": [],
   "source": [
    "import rasterio\n",
    "import numpy as np\n",
    "from rasterio import Affine\n",
    "\n",
    "from pathlib import Path\n",
    "import os\n"
   ]
  },
  {
   "cell_type": "code",
   "execution_count": 27,
   "id": "85176a73",
   "metadata": {},
   "outputs": [],
   "source": [
    "# Paths to the datasets\n",
    "ghs_tif_path = r'Cropped GHS BUILT C\\ghs_matched_to_sentinel.tif'\n",
    "sentinel_b02_path = r'Sentinel2_cropped\\GRANULE\\L2A_T43SCT_A018349_20181227T055233\\IMG_DATA\\R10m\\T43SCT_20181227T055231_B02_10m.jp2'\n"
   ]
  },
  {
   "cell_type": "code",
   "execution_count": 28,
   "id": "23d71dba",
   "metadata": {},
   "outputs": [],
   "source": [
    "# Function to check if two rasters are spatially aligned\n",
    "def check_raster_alignment(raster1_path, raster2_path, tolerance=1e-6):\n",
    "    with rasterio.open(raster1_path) as src1, rasterio.open(raster2_path) as src2:\n",
    "        # Check CRS\n",
    "        if src1.crs != src2.crs:\n",
    "            print(f\"CRS mismatch: {src1.crs} vs {src2.crs}\")\n",
    "            return False\n",
    "        \n",
    "        # Check resolution (pixel size)\n",
    "        res1 = src1.res\n",
    "        res2 = src2.res\n",
    "        if not (abs(res1[0] - res2[0]) < tolerance and abs(res1[1] - res2[1]) < tolerance):\n",
    "            print(f\"Resolution mismatch: {res1} vs {res2}\")\n",
    "            return False\n",
    "        \n",
    "        # Check bounds\n",
    "        bounds1 = src1.bounds\n",
    "        bounds2 = src2.bounds\n",
    "        if not all(abs(bounds1[i] - bounds2[i]) < tolerance for i in range(4)):\n",
    "            print(f\"Bounds mismatch: {bounds1} vs {bounds2}\")\n",
    "            return False\n",
    "        \n",
    "        # Check dimensions\n",
    "        if src1.width != src2.width or src1.height != src2.height:\n",
    "            print(f\"Dimensions mismatch: ({src1.width}, {src1.height}) vs ({src2.width}, {src2.height})\")\n",
    "            return False\n",
    "        \n",
    "        print(\"Rasters are spatially aligned!\")\n",
    "        return True"
   ]
  },
  {
   "cell_type": "code",
   "execution_count": 29,
   "id": "e7aae169",
   "metadata": {},
   "outputs": [
    {
     "name": "stdout",
     "output_type": "stream",
     "text": [
      "Checking alignment between GHS BUILT C and Sentinel-2 B02...\n",
      "Rasters are spatially aligned!\n",
      "Proceeding with mask creation.\n"
     ]
    }
   ],
   "source": [
    "# Verify alignment between GHS and Sentinel-2\n",
    "print(\"Checking alignment between GHS BUILT C and Sentinel-2 B02...\")\n",
    "if not check_raster_alignment(ghs_tif_path, sentinel_b02_path):\n",
    "    print(\"Warning: Rasters are not aligned. The RES+NRES mask may not correspond correctly to Sentinel-2 data.\")\n",
    "else:\n",
    "    print(\"Proceeding with mask creation.\")"
   ]
  },
  {
   "cell_type": "code",
   "execution_count": 30,
   "id": "d1ef10df",
   "metadata": {},
   "outputs": [
    {
     "name": "stdout",
     "output_type": "stream",
     "text": [
      "Unique SMOD values: [0 1 2]\n",
      "RES+NRES mask saved as 'res_nres_islamabad.tif'\n"
     ]
    }
   ],
   "source": [
    "\n",
    "# Create RES+NRES mask from GHS BUILT C\n",
    "with rasterio.open(ghs_tif_path) as src:\n",
    "    smod = src.read(1)  # Read SMOD band (1=RES, 2=NRES, 3=Open Space, etc.)\n",
    "    profile = src.profile  # Get metadata for output\n",
    "\n",
    "# Verify unique SMOD values\n",
    "print(\"Unique SMOD values:\", np.unique(smod))\n",
    "\n",
    "# Create masks\n",
    "res_mask = (smod == 1).astype(np.uint8)      # Residential areas\n",
    "nres_mask = (smod == 2).astype(np.uint8)     # Non-residential areas\n",
    "res_nres_mask = np.isin(smod, [1, 2]).astype(np.float32)  # Combined RES+NRES mask\n",
    "\n",
    "# Save the RES+NRES mask\n",
    "output_path = 'res_nres_islamabad.tif'\n",
    "with rasterio.open(output_path, 'w', **profile) as dst:\n",
    "    dst.write(res_nres_mask, 1)\n",
    "\n",
    "print(f\"RES+NRES mask saved as '{output_path}'\")"
   ]
  },
  {
   "cell_type": "code",
   "execution_count": 42,
   "id": "62a2e949",
   "metadata": {},
   "outputs": [],
   "source": [
    "import rasterio\n",
    "import numpy as np\n",
    "from pathlib import Path\n",
    "from sklearn.model_selection import train_test_split\n",
    "import os\n",
    "import glob"
   ]
  },
  {
   "cell_type": "code",
   "execution_count": 47,
   "id": "5407fcf7",
   "metadata": {},
   "outputs": [],
   "source": [
    "# Paths to the datasets\n",
    "ghs_path = 'Cropped GHS BUILT C/ghs_matched_to_sentinel.tif'\n",
    "sentinel_bands = {\n",
    "    'B02': 'Sentinel2_cropped/GRANULE/L2A_T43SCT_A018349_20181227T055233/IMG_DATA/R10m/T43SCT_20181227T055231_B02_10m.jp2',\n",
    "    'B03': 'Sentinel2_cropped/GRANULE/L2A_T43SCT_A018349_20181227T055233/IMG_DATA/R10m/T43SCT_20181227T055231_B03_10m.jp2',\n",
    "    'B04': 'Sentinel2_cropped/GRANULE/L2A_T43SCT_A018349_20181227T055233/IMG_DATA/R10m/T43SCT_20181227T055231_B04_10m.jp2',\n",
    "    'B08': 'Sentinel2_cropped/GRANULE/L2A_T43SCT_A018349_20181227T055233/IMG_DATA/R10m/T43SCT_20181227T055231_B08_10m.jp2'\n",
    "}"
   ]
  },
  {
   "cell_type": "code",
   "execution_count": 48,
   "id": "71029088",
   "metadata": {},
   "outputs": [],
   "source": [
    "# Verify file existence\n",
    "for band_name, band_path in sentinel_bands.items():\n",
    "    if not os.path.exists(band_path):\n",
    "        raise FileNotFoundError(f\"Sentinel-2 band {band_name} not found at {band_path}\")\n",
    "if not os.path.exists(ghs_path):\n",
    "    raise FileNotFoundError(f\"GHS file not found at {ghs_path}\")"
   ]
  },
  {
   "cell_type": "code",
   "execution_count": 49,
   "id": "27f5cab3",
   "metadata": {},
   "outputs": [],
   "source": [
    "# Output directories for patches\n",
    "patch_size = 256  # Reduced to ensure patches are generated\n",
    "output_dir = Path('training_patches')\n",
    "output_dir.mkdir(exist_ok=True)\n",
    "for subset in ['train', 'val', 'test']:\n",
    "    (output_dir / subset / 'inputs').mkdir(exist_ok=True, parents=True)\n",
    "    (output_dir / subset / 'labels').mkdir(exist_ok=True, parents=True)"
   ]
  },
  {
   "cell_type": "code",
   "execution_count": 52,
   "id": "8d1020d1",
   "metadata": {},
   "outputs": [
    {
     "name": "stdout",
     "output_type": "stream",
     "text": [
      "Input stack shape: (3660, 3660, 4)\n"
     ]
    }
   ],
   "source": [
    "# Load and stack Sentinel-2 bands\n",
    "bands = []\n",
    "with rasterio.open(list(sentinel_bands.values())[0]) as src:\n",
    "    profile = src.profile\n",
    "for band_path in sentinel_bands.values():\n",
    "    with rasterio.open(band_path) as src:\n",
    "        band = src.read(1).astype(np.float32)\n",
    "        band = band / 10000.0  # Normalize to [0, 1]\n",
    "        bands.append(band)\n",
    "input_stack = np.stack(bands, axis=-1)  # Shape: (height, width, 4)\n",
    "print(f\"Input stack shape: {input_stack.shape}\")"
   ]
  },
  {
   "cell_type": "code",
   "execution_count": 53,
   "id": "91574a7c",
   "metadata": {},
   "outputs": [
    {
     "name": "stdout",
     "output_type": "stream",
     "text": [
      "Unique SMOD values: [0 1 2]\n",
      "SMOD shape: (3660, 3660)\n"
     ]
    }
   ],
   "source": [
    "# Load the GHS SMOD band\n",
    "with rasterio.open(ghs_path) as src:\n",
    "    smod = src.read(1)  # SMOD values: 0 (non-built), 1 (RES), 2 (NRES)\n",
    "    print(\"Unique SMOD values:\", np.unique(smod))\n",
    "print(f\"SMOD shape: {smod.shape}\")"
   ]
  },
  {
   "cell_type": "code",
   "execution_count": 54,
   "id": "316e758b",
   "metadata": {},
   "outputs": [],
   "source": [
    "# Convert SMOD to one-hot encoded labels\n",
    "label_stack = np.stack([\n",
    "    (smod == 0).astype(np.float32),  # Non-built\n",
    "    (smod == 1).astype(np.float32),  # RES\n",
    "    (smod == 2).astype(np.float32)   # NRES\n",
    "], axis=-1)  # Shape: (height, width, 3)\n"
   ]
  },
  {
   "cell_type": "code",
   "execution_count": 55,
   "id": "fb45ad78",
   "metadata": {},
   "outputs": [],
   "source": [
    "# Verify dimensions\n",
    "if input_stack.shape[:2] != smod.shape:\n",
    "    raise ValueError(f\"Input and label dimensions mismatch: {input_stack.shape[:2]} vs {smod.shape}\")\n"
   ]
  },
  {
   "cell_type": "code",
   "execution_count": 56,
   "id": "a70ba9fe",
   "metadata": {},
   "outputs": [],
   "source": [
    "\n",
    "# Function to extract patches\n",
    "def extract_patches(image, label, patch_size, stride=None):\n",
    "    if stride is None:\n",
    "        stride = patch_size // 2\n",
    "    height, width = image.shape[:2]\n",
    "    patches = []\n",
    "    labels = []\n",
    "    discarded = 0\n",
    "    for y in range(0, height - patch_size + 1, stride):\n",
    "        for x in range(0, width - patch_size + 1, stride):\n",
    "            patch = image[y:y+patch_size, x:x+patch_size]\n",
    "            patch_label = label[y:y+patch_size, x:x+patch_size]\n",
    "            patches.append(patch)\n",
    "            labels.append(patch_label)\n",
    "        else:\n",
    "            discarded += 1\n",
    "    print(f\"Kept {len(patches)} patches, discarded {discarded} patches\")\n",
    "    return patches, labels\n"
   ]
  },
  {
   "cell_type": "code",
   "execution_count": 57,
   "id": "7c9c6b2b",
   "metadata": {},
   "outputs": [
    {
     "name": "stdout",
     "output_type": "stream",
     "text": [
      "Kept 729 patches, discarded 27 patches\n",
      "Total patches generated: 729\n",
      "Train: 437, Val: 146, Test: 146\n"
     ]
    }
   ],
   "source": [
    "# Extract patches\n",
    "input_patches, label_patches = extract_patches(input_stack, label_stack, patch_size)\n",
    "print(f\"Total patches generated: {len(input_patches)}\")\n",
    "\n",
    "# Split into train (60%), validation (20%), test (20%)\n",
    "indices = list(range(len(input_patches)))\n",
    "if len(input_patches) < 5:\n",
    "    train_idx = indices\n",
    "    val_idx = []\n",
    "    test_idx = []\n",
    "    print(\"Too few patches, assigning all to training\")\n",
    "else:\n",
    "    train_idx, temp_idx = train_test_split(indices, test_size=0.4, random_state=42)\n",
    "    val_idx, test_idx = train_test_split(temp_idx, test_size=0.5, random_state=42)\n",
    "print(f\"Train: {len(train_idx)}, Val: {len(val_idx)}, Test: {len(test_idx)}\")"
   ]
  },
  {
   "cell_type": "code",
   "execution_count": 58,
   "id": "655c1e75",
   "metadata": {},
   "outputs": [],
   "source": [
    "# Save patches\n",
    "for subset, idx in [('train', train_idx), ('val', val_idx), ('test', test_idx)]:\n",
    "    for i, patch_idx in enumerate(idx):\n",
    "        np.save(output_dir / subset / 'inputs' / f'patch_{i}.npy', input_patches[patch_idx])\n",
    "        np.save(output_dir / subset / 'labels' / f'patch_{i}.npy', label_patches[patch_idx])\n"
   ]
  },
  {
   "cell_type": "code",
   "execution_count": 59,
   "id": "4180af55",
   "metadata": {},
   "outputs": [
    {
     "name": "stdout",
     "output_type": "stream",
     "text": [
      "train inputs: 437, labels: 437\n",
      "val inputs: 146, labels: 146\n",
      "test inputs: 146, labels: 146\n"
     ]
    }
   ],
   "source": [
    "# Verify saved files\n",
    "for subset in ['train', 'val', 'test']:\n",
    "    inputs = glob.glob(str(output_dir / subset / 'inputs' / '*.npy'))\n",
    "    labels = glob.glob(str(output_dir / subset / 'labels' / '*.npy'))\n",
    "    print(f\"{subset} inputs: {len(inputs)}, labels: {len(labels)}\")"
   ]
  },
  {
   "cell_type": "code",
   "execution_count": 60,
   "id": "39c744da",
   "metadata": {},
   "outputs": [],
   "source": [
    "import torch\n",
    "import torch.nn as nn\n",
    "import torch.nn.functional as F\n",
    "\n",
    "    \n",
    "class AttentionGate(nn.Module):\n",
    "    def __init__(self, in_channels, out_channels):\n",
    "        super(AttentionGate, self).__init__()\n",
    "        self.theta_x = nn.Conv2d(in_channels, out_channels, kernel_size=1)\n",
    "        self.phi_g = nn.Conv2d(out_channels, out_channels, kernel_size=1)\n",
    "        self.psi = nn.Conv2d(out_channels, 1, kernel_size=1)\n",
    "        self.sigmoid = nn.Sigmoid()\n",
    "\n",
    "    def forward(self, x, g):\n",
    "        theta_x = self.theta_x(x)\n",
    "        phi_g = self.phi_g(g)\n",
    "        add_xg = theta_x + phi_g\n",
    "        act_xg = F.relu(add_xg, inplace=True)\n",
    "        psi = self.psi(act_xg)\n",
    "        sigmoid_xg = self.sigmoid(psi)\n",
    "        return x * sigmoid_xg\n",
    "    "
   ]
  },
  {
   "cell_type": "code",
   "execution_count": 61,
   "id": "211fad6f",
   "metadata": {},
   "outputs": [],
   "source": [
    "\n",
    "class ConvBlock(nn.Module):\n",
    "    def __init__(self, in_channels, out_channels):\n",
    "        super(ConvBlock, self).__init__()\n",
    "        self.conv = nn.Sequential(\n",
    "            nn.Conv2d(in_channels, out_channels, kernel_size=3, padding=1),\n",
    "            nn.BatchNorm2d(out_channels),\n",
    "            nn.ReLU(inplace=True),\n",
    "            nn.Conv2d(out_channels, out_channels, kernel_size=3, padding=1),\n",
    "            nn.BatchNorm2d(out_channels),\n",
    "            nn.ReLU(inplace=True)\n",
    "        )\n",
    "\n",
    "    def forward(self, x):\n",
    "        return self.conv(x)\n",
    "    "
   ]
  },
  {
   "cell_type": "code",
   "execution_count": 62,
   "id": "9633d0d5",
   "metadata": {},
   "outputs": [],
   "source": [
    "class AttentionUNet(nn.Module):\n",
    "    def __init__(self, in_channels=4, out_channels=3):\n",
    "        super(AttentionUNet, self).__init__()\n",
    "        # Encoder\n",
    "        self.c1 = ConvBlock(in_channels, 64)\n",
    "        self.pool1 = nn.MaxPool2d(2)\n",
    "        self.c2 = ConvBlock(64, 128)\n",
    "        self.pool2 = nn.MaxPool2d(2)\n",
    "        # Bottleneck\n",
    "        self.c3 = ConvBlock(128, 256)\n",
    "        # Decoder\n",
    "        self.up4 = nn.ConvTranspose2d(256, 128, kernel_size=2, stride=2)\n",
    "        self.att4 = AttentionGate(128, 128)\n",
    "        self.c4 = ConvBlock(256, 128)\n",
    "        self.up5 = nn.ConvTranspose2d(128, 64, kernel_size=2, stride=2)\n",
    "        self.att5 = AttentionGate(64, 64)\n",
    "        self.c5 = ConvBlock(128, 64)\n",
    "        # Output\n",
    "        self.out = nn.Conv2d(64, out_channels, kernel_size=1)\n",
    "        self.sigmoid = nn.Sigmoid()  # Fractional output [0, 1] per class\n",
    "\n",
    "    def forward(self, x):\n",
    "        # Encoder\n",
    "        c1 = self.c1(x)\n",
    "        p1 = self.pool1(c1)\n",
    "        c2 = self.c2(p1)\n",
    "        p2 = self.pool2(c2)\n",
    "        # Bottleneck\n",
    "        c3 = self.c3(p2)\n",
    "        # Decoder\n",
    "        u4 = self.up4(c3)\n",
    "        att4 = self.att4(c2, u4)\n",
    "        c4 = self.c4(torch.cat([u4, att4], dim=1))\n",
    "        u5 = self.up5(c4)\n",
    "        att5 = self.att5(c1, u5)\n",
    "        c5 = self.c5(torch.cat([u5, att5], dim=1))\n",
    "        # Output\n",
    "        out = self.out(c5)\n",
    "        return self.sigmoid(out)"
   ]
  },
  {
   "cell_type": "code",
   "execution_count": 63,
   "id": "7b35d7a0",
   "metadata": {},
   "outputs": [],
   "source": [
    "# Huber Loss implementation\n",
    "class HuberLoss(nn.Module):\n",
    "    def __init__(self, delta=24):\n",
    "        super(HuberLoss, self).__init__()\n",
    "        self.delta = delta\n",
    "\n",
    "    def forward(self, y_pred, y_true):\n",
    "        residual = torch.abs(y_pred - y_true)\n",
    "        condition = residual <= self.delta\n",
    "        small_error = 0.5 * residual ** 2\n",
    "        large_error = self.delta * residual - 0.5 * self.delta ** 2\n",
    "        return torch.mean(torch.where(condition, small_error, large_error))"
   ]
  },
  {
   "cell_type": "code",
   "execution_count": 64,
   "id": "0a2a4009",
   "metadata": {},
   "outputs": [
    {
     "name": "stdout",
     "output_type": "stream",
     "text": [
      "torch.Size([1, 3, 512, 512])\n"
     ]
    }
   ],
   "source": [
    "model = AttentionUNet(in_channels=4, out_channels=3)\n",
    "x = torch.randn(1, 4, 512, 512)\n",
    "print(model(x).shape)"
   ]
  },
  {
   "cell_type": "code",
   "execution_count": 65,
   "id": "935518fd",
   "metadata": {},
   "outputs": [],
   "source": [
    "import torch\n",
    "import torch.nn as nn\n",
    "import torch.optim as optim\n",
    "from torch.utils.data import Dataset, DataLoader\n",
    "import numpy as np\n",
    "from pathlib import Path\n",
    "from sklearn.metrics import r2_score\n",
    "\n",
    "# Custom dataset\n",
    "class SegmentationDataset(Dataset):\n",
    "    def __init__(self, input_dir, label_dir):\n",
    "        self.input_files = sorted(Path(input_dir).glob('patch_*.npy'))\n",
    "        self.label_files = sorted(Path(label_dir).glob('patch_*.npy'))\n",
    "        assert len(self.input_files) == len(self.label_files), \"Mismatch in input/label counts\"\n",
    "\n",
    "    def __len__(self):\n",
    "        return len(self.input_files)\n",
    "\n",
    "    def __getitem__(self, idx):\n",
    "        input_patch = np.load(self.input_files[idx])  # Shape: (512, 512, 4)\n",
    "        label_patch = np.load(self.label_files[idx])  # Shape: (512, 512, 3)\n",
    "        input_patch = torch.from_numpy(input_patch).permute(2, 0, 1).float()  # (4, 512, 512)\n",
    "        label_patch = torch.from_numpy(label_patch).permute(2, 0, 1).float()  # (3, 512, 512)\n",
    "        return input_patch, label_patch\n"
   ]
  },
  {
   "cell_type": "code",
   "execution_count": 66,
   "id": "44620f26",
   "metadata": {},
   "outputs": [],
   "source": [
    "# Paths\n",
    "base_dir = Path('training_patches')\n",
    "train_dataset = SegmentationDataset(base_dir / 'train' / 'inputs', base_dir / 'train' / 'labels')\n",
    "val_dataset = SegmentationDataset(base_dir / 'val' / 'inputs', base_dir / 'val' / 'labels')\n",
    "test_dataset = SegmentationDataset(base_dir / 'test' / 'inputs', base_dir / 'test' / 'labels')\n",
    "\n",
    "# DataLoaders\n",
    "train_loader = DataLoader(train_dataset, batch_size=1, shuffle=True, num_workers=0)\n",
    "val_loader = DataLoader(val_dataset, batch_size=1, shuffle=False, num_workers=0)\n",
    "test_loader = DataLoader(test_dataset, batch_size=1, shuffle=False, num_workers=0)\n"
   ]
  },
  {
   "cell_type": "code",
   "execution_count": 67,
   "id": "68c6c7bc",
   "metadata": {},
   "outputs": [],
   "source": [
    "# Model, loss, optimizer\n",
    "device = torch.device('cpu')  # Use CPU for now\n",
    "model = AttentionUNet(in_channels=4, out_channels=3).to(device)\n",
    "criterion = HuberLoss(delta=0.5)  # Huber Loss with delta=0.5\n",
    "optimizer = optim.RMSprop(model.parameters(), lr=0.01)\n",
    "\n",
    "# Training loop with early stopping\n",
    "num_epochs = 200\n",
    "patience = 20\n",
    "best_val_loss = float('inf')\n",
    "epochs_no_improve = 0\n",
    "best_model_path = 'attention_unet_best.pth'"
   ]
  },
  {
   "cell_type": "code",
   "execution_count": null,
   "id": "cbf81d54",
   "metadata": {},
   "outputs": [],
   "source": [
    "for epoch in range(num_epochs):\n",
    "    model.train()\n",
    "    train_loss = 0.0\n",
    "    for inputs, labels in train_loader:\n",
    "        inputs, labels = inputs.to(device), labels.to(device)\n",
    "        optimizer.zero_grad()\n",
    "        outputs = model(inputs)\n",
    "        loss = criterion(outputs, labels)\n",
    "        loss.backward()\n",
    "        optimizer.step()\n",
    "        train_loss += loss.item() * inputs.size(0)\n",
    "    train_loss /= len(train_dataset)\n",
    "\n",
    "    # Validation\n",
    "    model.eval()\n",
    "    val_loss = 0.0\n",
    "    with torch.no_grad():\n",
    "        for inputs, labels in val_loader:\n",
    "            inputs, labels = inputs.to(device), labels.to(device)\n",
    "            outputs = model(inputs)\n",
    "            loss = criterion(outputs, labels)\n",
    "            val_loss += loss.item() * inputs.size(0)\n",
    "    val_loss /= len(val_dataset)\n",
    "\n",
    "    print(f'Epoch {epoch+1}/{num_epochs}, Train Loss: {train_loss:.4f}, Val Loss: {val_loss:.4f}')\n",
    "\n",
    "    # Early stopping\n",
    "    if val_loss < best_val_loss:\n",
    "        best_val_loss = val_loss\n",
    "        epochs_no_improve = 0\n",
    "        torch.save(model.state_dict(), best_model_path)\n",
    "    else:\n",
    "        epochs_no_improve += 1\n",
    "        if epochs_no_improve >= patience:\n",
    "            print(\"Early stopping triggered\")\n",
    "            break\n"
   ]
  },
  {
   "cell_type": "code",
   "execution_count": null,
   "id": "6f39eab3",
   "metadata": {},
   "outputs": [],
   "source": [
    "\n",
    "# Evaluate on test set\n",
    "model.load_state_dict(torch.load(best_model_path))\n",
    "model.eval()\n",
    "test_loss = 0.0\n",
    "preds, trues = [], []\n",
    "with torch.no_grad():\n",
    "    for inputs, labels in test_loader:\n",
    "        inputs, labels = inputs.to(device), labels.to(device)\n",
    "        outputs = model(inputs)\n",
    "        loss = criterion(outputs, labels)\n",
    "        test_loss += loss.item() * inputs.size(0)\n",
    "        preds.append(outputs.cpu().numpy().flatten())\n",
    "        trues.append(labels.cpu().numpy().flatten())\n",
    "test_loss /= len(test_dataset)\n",
    "\n",
    "# Compute R² and RMSE\n",
    "preds = np.concatenate(preds)\n",
    "trues = np.concatenate(trues)\n",
    "r2 = r2_score(trues, preds)\n",
    "rmse = np.sqrt(np.mean((preds - trues) ** 2))\n",
    "\n",
    "print(f\"Test Loss: {test_loss:.4f}, R²: {r2:.4f}, RMSE: {rmse:.4f}\")\n",
    "print(f\"Best model saved as '{best_model_path}'\")"
   ]
  }
 ],
 "metadata": {
  "kernelspec": {
   "display_name": "venv310",
   "language": "python",
   "name": "python3"
  },
  "language_info": {
   "codemirror_mode": {
    "name": "ipython",
    "version": 3
   },
   "file_extension": ".py",
   "mimetype": "text/x-python",
   "name": "python",
   "nbconvert_exporter": "python",
   "pygments_lexer": "ipython3",
   "version": "3.10.0"
  }
 },
 "nbformat": 4,
 "nbformat_minor": 5
}
